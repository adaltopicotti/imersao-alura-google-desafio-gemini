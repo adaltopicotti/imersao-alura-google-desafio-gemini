{
  "nbformat": 4,
  "nbformat_minor": 0,
  "metadata": {
    "colab": {
      "provenance": [],
      "mount_file_id": "1HCT9JvkAx7o_QEVDNaxIt4XG4sXZIGcQ",
      "authorship_tag": "ABX9TyMMcev8D5gWRN5HtTbfDtwp",
      "include_colab_link": true
    },
    "kernelspec": {
      "name": "python3",
      "display_name": "Python 3"
    },
    "language_info": {
      "name": "python"
    }
  },
  "cells": [
    {
      "cell_type": "markdown",
      "metadata": {
        "id": "view-in-github",
        "colab_type": "text"
      },
      "source": [
        "<a href=\"https://colab.research.google.com/github/adaltopicotti/imersao-alura-google-desafio-gemini/blob/main/desafio_alura_google.ipynb\" target=\"_parent\"><img src=\"https://colab.research.google.com/assets/colab-badge.svg\" alt=\"Open In Colab\"/></a>"
      ]
    },
    {
      "cell_type": "markdown",
      "source": [
        "# Consulta de informações em Artigos em PDF\n",
        "\n",
        "Projeto que auxilia na busca de informações em PDFs.\n",
        "\n",
        "### Informação relevante para o projeto\n",
        " - O pdf utilizado para os testes foi o [gemini-for-google-workspace-prompting-guide-101](https://inthecloud.withgoogle.com/gemini-for-google-workspace-prompt-guide/dl-cd.html).\n",
        " - O pdf foi armazenado no diretório raiz do projeto.\n",
        "\n",
        "\n",
        " ### Aprimoramento\n",
        " - Para este projeto está utilizando apenas 1 PDF, porém o projeto pode ser adaptado para realizar busca em multiplos PDFs.\n",
        " - Com a utilização da biblioteca VertexAI, pode ter uma melhora significante na manipulação do PDF, ou até mesmo passar utilizar outros formatos, eliminando a necessidade de bibliotecas de terceiros como a `pypdf` que foi utilizada neste projeto.\n",
        "\n"
      ],
      "metadata": {
        "id": "YvdcoRyQi3kk"
      }
    },
    {
      "cell_type": "code",
      "execution_count": 20,
      "metadata": {
        "id": "vMKFpekgOJTx"
      },
      "outputs": [],
      "source": [
        "!pip install -U -q pypdf\n",
        "!pip install -U -q google-generativeai"
      ]
    },
    {
      "cell_type": "markdown",
      "source": [
        "## Importações e configurações iniciais"
      ],
      "metadata": {
        "id": "PEoyl8__lU0b"
      }
    },
    {
      "cell_type": "code",
      "source": [
        "# Importações e configurações iniciais\n",
        "import numpy as np\n",
        "import pandas as pd\n",
        "import google.generativeai as genai\n",
        "from google.colab import userdata\n",
        "\n",
        "from pypdf import PdfReader\n",
        "import json\n",
        "\n",
        "GOOGLE_API_KEY = userdata.get('GEMINI_API_KEY')\n",
        "genai.configure(api_key=GOOGLE_API_KEY)"
      ],
      "metadata": {
        "id": "CBKMue5CP7_t"
      },
      "execution_count": 21,
      "outputs": []
    },
    {
      "cell_type": "markdown",
      "source": [
        "## Inicializando modelos"
      ],
      "metadata": {
        "id": "KUGBMt4FaeMg"
      }
    },
    {
      "cell_type": "code",
      "source": [
        "generation_config = {\n",
        "    \"candidate_count\": 1,\n",
        "    \"temperature\": 0.2,\n",
        "}\n",
        "\n",
        "# Uma possibilidade: implementar o safety_settings de acordo com o artigo/pdf a ser estudado\n",
        "safety_settings = {\n",
        "    \"HARASSMENT\": \"BLOCK_NONE\",\n",
        "    \"HATE\": \"BLOCK_NONE\",\n",
        "    \"SEXUAL\": \"BLOCK_NONE\",\n",
        "    \"DANGEROUS\": \"BLOCK_NONE\",\n",
        "}\n",
        "\n",
        "# Modelo para validações\n",
        "model_validator = genai.GenerativeModel(\n",
        "    model_name=\"gemini-1.5-pro-latest\",\n",
        "    generation_config=generation_config,\n",
        "    safety_settings=safety_settings,\n",
        "    system_instruction=[\n",
        "        \"Caso o CONTENT seja um sumário e o INPUT não pedir sumário, responda apenas True. Senão responda False\"\n",
        "    ]\n",
        ")\n",
        "\n",
        "# Modelo que gera resposta\n",
        "model_generative = genai.GenerativeModel(\n",
        "    model_name=\"gemini-1.0-pro\",\n",
        "    generation_config=generation_config,\n",
        "    safety_settings=safety_settings,\n",
        ")"
      ],
      "metadata": {
        "id": "icH6UdAfahKh"
      },
      "execution_count": 130,
      "outputs": []
    },
    {
      "cell_type": "markdown",
      "source": [
        "Obs: o model_validator foi criado apenas para testar como realizar validações utilizando `system_instructions` do modelo `gemini-1.5-pro`.\n",
        "\n",
        "O mantive no código para quem tiver interesse ou dúvida de como utilizar."
      ],
      "metadata": {
        "id": "_Ic-f6alldf3"
      }
    },
    {
      "cell_type": "markdown",
      "source": [
        "## Funções"
      ],
      "metadata": {
        "id": "M0TPWoYZW1JW"
      }
    },
    {
      "cell_type": "code",
      "source": [
        "def embed_fn(text, model):\n",
        "  return genai.embed_content(\n",
        "    model=model,\n",
        "    content=text,\n",
        "    task_type=\"RETRIEVAL_DOCUMENT\"\n",
        "  )['embedding']\n"
      ],
      "metadata": {
        "id": "Uz2yUR8yW060"
      },
      "execution_count": 129,
      "outputs": []
    },
    {
      "cell_type": "code",
      "source": [
        "def gerar_e_buscar_consulta(consulta, base, model):\n",
        "  embedding_da_consulta = genai.embed_content(model=model,\n",
        "                                content=consulta,\n",
        "                                task_type=\"RETRIEVAL_QUERY\"\n",
        "                              )[\"embedding\"]\n",
        "\n",
        "  produtos_escalares = np.dot(np.stack(base[\"embeddings\"]), embedding_da_consulta)\n",
        "  indice = np.argmax(produtos_escalares)\n",
        "\n",
        "  return base.iloc[indice][\"content\"]"
      ],
      "metadata": {
        "id": "4J_Fz5rPW6NQ"
      },
      "execution_count": 124,
      "outputs": []
    },
    {
      "cell_type": "code",
      "source": [
        "def gerar_dataframe_de_pdf(pdf_path, model):\n",
        "  inputpdf = PdfReader(open(pdf_path, 'rb'))\n",
        "\n",
        "  inputpdf.pages[3].extract_text()\n",
        "  pages = []\n",
        "  for index, _ in enumerate(inputpdf.pages):\n",
        "    if index >= 1:\n",
        "      page_before = inputpdf.pages[index - 1].extract_text()\n",
        "    else:\n",
        "      page_before = \"\"\n",
        "\n",
        "    if index <= len(inputpdf.pages) - 2:\n",
        "      page_after = inputpdf.pages[index + 1].extract_text()\n",
        "    else:\n",
        "      page_after = \"\"\n",
        "\n",
        "\n",
        "    page = inputpdf.pages[index].extract_text()\n",
        "\n",
        "    pages.append([f\"{page_before} \\n{page} \\n{page_after}\"])\n",
        "\n",
        "  df = pd.DataFrame(pages, columns=[\"content\"])\n",
        "  df[\"embeddings\"] = df.apply(lambda row: embed_fn(row[\"content\"], model=model), axis=1)\n",
        "  return df"
      ],
      "metadata": {
        "id": "N7tGhivaXFKt"
      },
      "execution_count": 125,
      "outputs": []
    },
    {
      "cell_type": "markdown",
      "source": [
        "Cada linha do DataFrame é criado com até 3 páginas do PDF.\n",
        "\n",
        "Exemplos:\n",
        "- Para o embedding da página 1, é utilizado a página 1 e 2.\n",
        "- Para o embedding da página 4, é utilizado a página 3, 4 e 5.\n",
        "\n",
        "Sempre utilizando a página atual, a anterior (caso exista) e a posterior (caso exista)."
      ],
      "metadata": {
        "id": "4lAP-UNBmBiO"
      }
    },
    {
      "cell_type": "markdown",
      "source": [
        "## Gerando o DataFrame do PDF `df_pdf`"
      ],
      "metadata": {
        "id": "IZS07pb7m34A"
      }
    },
    {
      "cell_type": "code",
      "source": [
        "model_embedding = \"models/embedding-001\"\n",
        "df_pdf = gerar_dataframe_de_pdf('gemini-for-google-workspace-prompting-guide-101.pdf', model=model_embedding)\n",
        "\n",
        "# Mostrar os 5 primeiros items do DataFrame\n",
        "df_pdf.head(5)"
      ],
      "metadata": {
        "colab": {
          "base_uri": "https://localhost:8080/",
          "height": 206
        },
        "id": "Qco5dmiyP-i3",
        "outputId": "41bdc5e5-54b1-4868-cb82-4d8decb89b6c"
      },
      "execution_count": 127,
      "outputs": [
        {
          "output_type": "execute_result",
          "data": {
            "text/plain": [
              "                                             content  \\\n",
              "0   \\n1Prompting\\nguide 101\\nApril 2024 editionA ...   \n",
              "1  1Prompting\\nguide 101\\nApril 2024 editionA qui...   \n",
              "2  2Writing effective prompts \\nFrom the very beg...   \n",
              "3  3Prompting is an art. You will likely need to ...   \n",
              "4  4Table of contents\\nWriting effective prompts ...   \n",
              "\n",
              "                                          embeddings  \n",
              "0  [0.045477975, -0.06524749, -0.010696349, -0.02...  \n",
              "1  [0.038546376, -0.06046804, -0.0048366333, -0.0...  \n",
              "2  [0.03361882, -0.067133844, -0.006784832, -0.02...  \n",
              "3  [0.039101925, -0.06972493, -0.01347802, -0.005...  \n",
              "4  [0.039370213, -0.0792449, -0.03829455, -0.0225...  "
            ],
            "text/html": [
              "\n",
              "  <div id=\"df-d61c6251-c2bb-4a5b-9fa4-5bc97c8c49e9\" class=\"colab-df-container\">\n",
              "    <div>\n",
              "<style scoped>\n",
              "    .dataframe tbody tr th:only-of-type {\n",
              "        vertical-align: middle;\n",
              "    }\n",
              "\n",
              "    .dataframe tbody tr th {\n",
              "        vertical-align: top;\n",
              "    }\n",
              "\n",
              "    .dataframe thead th {\n",
              "        text-align: right;\n",
              "    }\n",
              "</style>\n",
              "<table border=\"1\" class=\"dataframe\">\n",
              "  <thead>\n",
              "    <tr style=\"text-align: right;\">\n",
              "      <th></th>\n",
              "      <th>content</th>\n",
              "      <th>embeddings</th>\n",
              "    </tr>\n",
              "  </thead>\n",
              "  <tbody>\n",
              "    <tr>\n",
              "      <th>0</th>\n",
              "      <td>\\n1Prompting\\nguide 101\\nApril 2024 editionA ...</td>\n",
              "      <td>[0.045477975, -0.06524749, -0.010696349, -0.02...</td>\n",
              "    </tr>\n",
              "    <tr>\n",
              "      <th>1</th>\n",
              "      <td>1Prompting\\nguide 101\\nApril 2024 editionA qui...</td>\n",
              "      <td>[0.038546376, -0.06046804, -0.0048366333, -0.0...</td>\n",
              "    </tr>\n",
              "    <tr>\n",
              "      <th>2</th>\n",
              "      <td>2Writing effective prompts \\nFrom the very beg...</td>\n",
              "      <td>[0.03361882, -0.067133844, -0.006784832, -0.02...</td>\n",
              "    </tr>\n",
              "    <tr>\n",
              "      <th>3</th>\n",
              "      <td>3Prompting is an art. You will likely need to ...</td>\n",
              "      <td>[0.039101925, -0.06972493, -0.01347802, -0.005...</td>\n",
              "    </tr>\n",
              "    <tr>\n",
              "      <th>4</th>\n",
              "      <td>4Table of contents\\nWriting effective prompts ...</td>\n",
              "      <td>[0.039370213, -0.0792449, -0.03829455, -0.0225...</td>\n",
              "    </tr>\n",
              "  </tbody>\n",
              "</table>\n",
              "</div>\n",
              "    <div class=\"colab-df-buttons\">\n",
              "\n",
              "  <div class=\"colab-df-container\">\n",
              "    <button class=\"colab-df-convert\" onclick=\"convertToInteractive('df-d61c6251-c2bb-4a5b-9fa4-5bc97c8c49e9')\"\n",
              "            title=\"Convert this dataframe to an interactive table.\"\n",
              "            style=\"display:none;\">\n",
              "\n",
              "  <svg xmlns=\"http://www.w3.org/2000/svg\" height=\"24px\" viewBox=\"0 -960 960 960\">\n",
              "    <path d=\"M120-120v-720h720v720H120Zm60-500h600v-160H180v160Zm220 220h160v-160H400v160Zm0 220h160v-160H400v160ZM180-400h160v-160H180v160Zm440 0h160v-160H620v160ZM180-180h160v-160H180v160Zm440 0h160v-160H620v160Z\"/>\n",
              "  </svg>\n",
              "    </button>\n",
              "\n",
              "  <style>\n",
              "    .colab-df-container {\n",
              "      display:flex;\n",
              "      gap: 12px;\n",
              "    }\n",
              "\n",
              "    .colab-df-convert {\n",
              "      background-color: #E8F0FE;\n",
              "      border: none;\n",
              "      border-radius: 50%;\n",
              "      cursor: pointer;\n",
              "      display: none;\n",
              "      fill: #1967D2;\n",
              "      height: 32px;\n",
              "      padding: 0 0 0 0;\n",
              "      width: 32px;\n",
              "    }\n",
              "\n",
              "    .colab-df-convert:hover {\n",
              "      background-color: #E2EBFA;\n",
              "      box-shadow: 0px 1px 2px rgba(60, 64, 67, 0.3), 0px 1px 3px 1px rgba(60, 64, 67, 0.15);\n",
              "      fill: #174EA6;\n",
              "    }\n",
              "\n",
              "    .colab-df-buttons div {\n",
              "      margin-bottom: 4px;\n",
              "    }\n",
              "\n",
              "    [theme=dark] .colab-df-convert {\n",
              "      background-color: #3B4455;\n",
              "      fill: #D2E3FC;\n",
              "    }\n",
              "\n",
              "    [theme=dark] .colab-df-convert:hover {\n",
              "      background-color: #434B5C;\n",
              "      box-shadow: 0px 1px 3px 1px rgba(0, 0, 0, 0.15);\n",
              "      filter: drop-shadow(0px 1px 2px rgba(0, 0, 0, 0.3));\n",
              "      fill: #FFFFFF;\n",
              "    }\n",
              "  </style>\n",
              "\n",
              "    <script>\n",
              "      const buttonEl =\n",
              "        document.querySelector('#df-d61c6251-c2bb-4a5b-9fa4-5bc97c8c49e9 button.colab-df-convert');\n",
              "      buttonEl.style.display =\n",
              "        google.colab.kernel.accessAllowed ? 'block' : 'none';\n",
              "\n",
              "      async function convertToInteractive(key) {\n",
              "        const element = document.querySelector('#df-d61c6251-c2bb-4a5b-9fa4-5bc97c8c49e9');\n",
              "        const dataTable =\n",
              "          await google.colab.kernel.invokeFunction('convertToInteractive',\n",
              "                                                    [key], {});\n",
              "        if (!dataTable) return;\n",
              "\n",
              "        const docLinkHtml = 'Like what you see? Visit the ' +\n",
              "          '<a target=\"_blank\" href=https://colab.research.google.com/notebooks/data_table.ipynb>data table notebook</a>'\n",
              "          + ' to learn more about interactive tables.';\n",
              "        element.innerHTML = '';\n",
              "        dataTable['output_type'] = 'display_data';\n",
              "        await google.colab.output.renderOutput(dataTable, element);\n",
              "        const docLink = document.createElement('div');\n",
              "        docLink.innerHTML = docLinkHtml;\n",
              "        element.appendChild(docLink);\n",
              "      }\n",
              "    </script>\n",
              "  </div>\n",
              "\n",
              "\n",
              "<div id=\"df-469f1788-84bb-44c3-93b4-383deb533988\">\n",
              "  <button class=\"colab-df-quickchart\" onclick=\"quickchart('df-469f1788-84bb-44c3-93b4-383deb533988')\"\n",
              "            title=\"Suggest charts\"\n",
              "            style=\"display:none;\">\n",
              "\n",
              "<svg xmlns=\"http://www.w3.org/2000/svg\" height=\"24px\"viewBox=\"0 0 24 24\"\n",
              "     width=\"24px\">\n",
              "    <g>\n",
              "        <path d=\"M19 3H5c-1.1 0-2 .9-2 2v14c0 1.1.9 2 2 2h14c1.1 0 2-.9 2-2V5c0-1.1-.9-2-2-2zM9 17H7v-7h2v7zm4 0h-2V7h2v10zm4 0h-2v-4h2v4z\"/>\n",
              "    </g>\n",
              "</svg>\n",
              "  </button>\n",
              "\n",
              "<style>\n",
              "  .colab-df-quickchart {\n",
              "      --bg-color: #E8F0FE;\n",
              "      --fill-color: #1967D2;\n",
              "      --hover-bg-color: #E2EBFA;\n",
              "      --hover-fill-color: #174EA6;\n",
              "      --disabled-fill-color: #AAA;\n",
              "      --disabled-bg-color: #DDD;\n",
              "  }\n",
              "\n",
              "  [theme=dark] .colab-df-quickchart {\n",
              "      --bg-color: #3B4455;\n",
              "      --fill-color: #D2E3FC;\n",
              "      --hover-bg-color: #434B5C;\n",
              "      --hover-fill-color: #FFFFFF;\n",
              "      --disabled-bg-color: #3B4455;\n",
              "      --disabled-fill-color: #666;\n",
              "  }\n",
              "\n",
              "  .colab-df-quickchart {\n",
              "    background-color: var(--bg-color);\n",
              "    border: none;\n",
              "    border-radius: 50%;\n",
              "    cursor: pointer;\n",
              "    display: none;\n",
              "    fill: var(--fill-color);\n",
              "    height: 32px;\n",
              "    padding: 0;\n",
              "    width: 32px;\n",
              "  }\n",
              "\n",
              "  .colab-df-quickchart:hover {\n",
              "    background-color: var(--hover-bg-color);\n",
              "    box-shadow: 0 1px 2px rgba(60, 64, 67, 0.3), 0 1px 3px 1px rgba(60, 64, 67, 0.15);\n",
              "    fill: var(--button-hover-fill-color);\n",
              "  }\n",
              "\n",
              "  .colab-df-quickchart-complete:disabled,\n",
              "  .colab-df-quickchart-complete:disabled:hover {\n",
              "    background-color: var(--disabled-bg-color);\n",
              "    fill: var(--disabled-fill-color);\n",
              "    box-shadow: none;\n",
              "  }\n",
              "\n",
              "  .colab-df-spinner {\n",
              "    border: 2px solid var(--fill-color);\n",
              "    border-color: transparent;\n",
              "    border-bottom-color: var(--fill-color);\n",
              "    animation:\n",
              "      spin 1s steps(1) infinite;\n",
              "  }\n",
              "\n",
              "  @keyframes spin {\n",
              "    0% {\n",
              "      border-color: transparent;\n",
              "      border-bottom-color: var(--fill-color);\n",
              "      border-left-color: var(--fill-color);\n",
              "    }\n",
              "    20% {\n",
              "      border-color: transparent;\n",
              "      border-left-color: var(--fill-color);\n",
              "      border-top-color: var(--fill-color);\n",
              "    }\n",
              "    30% {\n",
              "      border-color: transparent;\n",
              "      border-left-color: var(--fill-color);\n",
              "      border-top-color: var(--fill-color);\n",
              "      border-right-color: var(--fill-color);\n",
              "    }\n",
              "    40% {\n",
              "      border-color: transparent;\n",
              "      border-right-color: var(--fill-color);\n",
              "      border-top-color: var(--fill-color);\n",
              "    }\n",
              "    60% {\n",
              "      border-color: transparent;\n",
              "      border-right-color: var(--fill-color);\n",
              "    }\n",
              "    80% {\n",
              "      border-color: transparent;\n",
              "      border-right-color: var(--fill-color);\n",
              "      border-bottom-color: var(--fill-color);\n",
              "    }\n",
              "    90% {\n",
              "      border-color: transparent;\n",
              "      border-bottom-color: var(--fill-color);\n",
              "    }\n",
              "  }\n",
              "</style>\n",
              "\n",
              "  <script>\n",
              "    async function quickchart(key) {\n",
              "      const quickchartButtonEl =\n",
              "        document.querySelector('#' + key + ' button');\n",
              "      quickchartButtonEl.disabled = true;  // To prevent multiple clicks.\n",
              "      quickchartButtonEl.classList.add('colab-df-spinner');\n",
              "      try {\n",
              "        const charts = await google.colab.kernel.invokeFunction(\n",
              "            'suggestCharts', [key], {});\n",
              "      } catch (error) {\n",
              "        console.error('Error during call to suggestCharts:', error);\n",
              "      }\n",
              "      quickchartButtonEl.classList.remove('colab-df-spinner');\n",
              "      quickchartButtonEl.classList.add('colab-df-quickchart-complete');\n",
              "    }\n",
              "    (() => {\n",
              "      let quickchartButtonEl =\n",
              "        document.querySelector('#df-469f1788-84bb-44c3-93b4-383deb533988 button');\n",
              "      quickchartButtonEl.style.display =\n",
              "        google.colab.kernel.accessAllowed ? 'block' : 'none';\n",
              "    })();\n",
              "  </script>\n",
              "</div>\n",
              "\n",
              "    </div>\n",
              "  </div>\n"
            ],
            "application/vnd.google.colaboratory.intrinsic+json": {
              "type": "dataframe",
              "variable_name": "df_pdf",
              "summary": "{\n  \"name\": \"df_pdf\",\n  \"rows\": 45,\n  \"fields\": [\n    {\n      \"column\": \"content\",\n      \"properties\": {\n        \"dtype\": \"string\",\n        \"num_unique_values\": 45,\n        \"samples\": [\n          \"39Once you wrap up your conversation, you export your results into a Google Doc. You open the Google Doc and \\nprompt Gemini in Docs. You type:\\n Create an email draft  for [customer] explaining why  [your  company] is the perfect partner for them to  \\n achieve their market goals.  (Gemini in Docs)\\nPrompt guide\\nSales Manager\\nUse case: Develop customer relationships\\nYour annual conference is coming up, and many of your most important customers will be there. You want to \\npersonally invite them to a happy hour you\\u2019re hosting. You want to mix in a few prospects as well so that they \\ncan network with existing customers. You open Gmail and prompt Gemini in Gmail by selecting Help me write . \\nYou type:\\nWrite an email inviting people interested in [focus area] to our happy hour taking place on [date, time] at \\n[trade show event]. Include that we specialize in [focus area].  (Gemini in Gmail)\\nNow that the event is over, you want to follow up with customers who came to the happy hour. You open Gmail \\nand prompt Gemini in Gmail by selecting Help me write . You type:\\nDraft an email thanking customers for their time at the happy hour on [date, time, location]. End with an \\ninvitation to continue the conversations in the next few weeks. Use a friendly tone. (Gemini in Gmail)\\nIn your event wrap-up activities, you also want to check in with the customers who attended the hands-on demo \\nworkshops. They tested a few of the company\\u2019s new products, and their early feedback is important to the \\nteam. You open a new Google Doc and prompt Gemini in Docs by selecting  \\nHelp me write . You type:\\nDraft 10 questions that I can use to survey customers about their recent experience with our [product/\\nservice]. Include questions to gauge how useful [the product] is, what they liked, and what they thought \\ncould use improvement.  (Gemini in Docs)\\nUse case: Support the sales team\\nUnfortunately, a regional issue has arisen with the company\\u2019s services. You need to contact all of your team \\nleads in the Southeast region to provide immediate guidance on how to proactively reach out to customers.  \\nYou open Gmail and prompt Gemini in Gmail by selecting Help me write . You type:\\nDraft an email to all Southeast region sales leads. Inform them of [issues]. Advise them to communicate \\nwith their teams to contact their customers and offer a 20% discount on a future order as an apology. \\n(Gemini in Gmail ) \\n40Now, you need to email all of the regional team members since they are closest to the customer feedback. You \\nopen Gmail and prompt Gemini in Gmail by selecting Help me write . You type:\\nDraft an email to the regional sales representatives about an urgent meeting that needs to take place next \\nweek about the [issues]. Ask them to provide availability on Monday or Tuesday.  (Gemini in Gmail)\\nUse case: Coach and train the sales team\\nYou\\u2019ve heard from many team members that they want more learning opportunities. You\\u2019re organizing a half-day \\nlearning program to support this request. You need to create a schedule, so you open a new Google Doc and \\nprompt Gemini in Docs by selecting Help me write . You type:\\nCreate a half-day agenda for an educational session on our latest technology [products] for sales teams. \\nInclude time for the product development team to present and include time for lunch.  (Gemini in Docs)\\nAs a follow up to the team meeting, you want to highlight all of the different learning opportunities available \\nto the team. You need a way to organize this, so you open Google Sheets and you prompt Gemini in Sheets by \\nselecting Help me organize . You type: \\nCreate a spreadsheet that tracks online courses for sellers. Include columns for the course\\u2019s main topic, \\nprice, duration, and priority level.  (Gemini in Sheets)\\nAccount Manager and Account Executive\\nUse case: Build customer relationships\\nYou just had a great call with a customer and now you want to use the notes you took from the meeting in \\nGoogle Docs to draft an email to the customer. In the Google Doc with your notes, you prompt Gemini in Docs  \\nby selecting Help me write . You type:\\nCompose a personalized follow-up email to [client] following an initial conversation. Summarize the key \\npoints we discussed and address any outstanding questions.  (Gemini in Docs)\\nThe account has just adopted one of the company\\u2019s service offerings and you need to ensure that they feel \\nsupported during the onboarding process. You want to make sure you check in on how things are progressing \\nonce a week, but you want to explore what the emails could look like. You open a new Google Doc and prompt \\nGemini in Docs by selecting Help me write . You type:\\nDraft four email templates to check in on my customer weekly now that they have purchased our new \\n[service]. Use one value proposition (cost, ease of use, security, availability, and customization) as the \\nmain topic for each email, and include [call to action] in each message.  (Gemini in Docs) \\n41Use case: Prepare for new customer calls\\nYou have an upcoming call with a prospect. This is a brand new use case for you, and you need help preparing \\nfor the call. You need help with initial research, so you visit gemini.google.com, and then you type:\\nDraft a customized script for me to follow during my sales call with a prospect. The call will happen over a \\nvideo call and is set to last 30 minutes. Make sure to add the following in the script: How [insert company \\nproducts/solutions] can help address potential customer\\u2019s pain points, how [company]\\u2019s delivery system \\nguarantees seamless and timely delivery, competitive pricing and volume-discount table, and space for  \\na customer reference in the [customer\\u2019s industry] industry. (gemini.google.com )\\nNow that you\\u2019ve done initial research, you export your findings to a new Google Doc. You open the Google Doc \\nso that you can continue working. Now, you want to create a tailored pitch. Using the Google Doc with all of your \\nresearch notes, you prompt Gemini in Docs by selecting Help me write . You type:\\nGenerate an elevator pitch for [product name] and include key benefits, competitive points of \\ndifferentiation, and the pain points that [product name] solves for. (Gemini in Docs)\\nYou have a great start to your elevator pitch and short talking points. You want to use this to further anticipate \\nhow the customer call might go. You resume your meeting preparation by returning to gemini.google.com.  \\nYou type:\\nI have an upcoming call with a prospect. [Use case] is a new use case for me, and I need help preparing for \\nthe call. List the most likely objections [customer] might have for me during a sales call, with suggestions \\non how to respond to them. I work in [insert industry], and I am trying to sell [product]. Also provide ideas \\non how to handle objections and suggest ways to respond. (gemini.google .com )\\nBusiness Development Manager\\nUse case: Nurture relationships, personalized outreach, and thought leadership\\nYou\\u2019re hoping to build deeper relationships with prospective customers that you met at a business influencers \\nnetworking event. You want to draft a template that you can customize for multiple contacts. You open a new \\nGoogle Doc, and you prompt Gemini in Docs by selecting Help me write . You type:\\nDraft an outreach email template to industry influencers. Express gratitude that we connected at [event], \\nand propose collaboration opportunities such as [opportunities]. (Gemini in Docs)\",\n          \"25Gemini in Docs provides suggestions that get you brainstorming about the scavenger hunt. You tweak the outputs \\nand get it approved by the team lead. Now, you need to communicate with the new hires to give them information \\nabout their first day when they will meet the team. You open Gmail and prompt Gemini in Gmail by selecting Help  \\nme write . You type:\\nDraft an email to the new employees on the [team] to meet the rest of their team and explain the team-building \\npurposes of the meeting.  (Gemini in Gmail)\\nUse case: Communicate key findings and draft follow-up surveys \\nNow that you\\u2019ve finished onboarding new employees, you need to focus on ensuring that the latest company \\nresearch data is easily understood by leadership. You\\u2019re committed to creating a welcoming environment for all \\nemployees where they can develop their skills. You open the Google Doc with the finalized report. You prompt \\nGemini in Docs by selecting Help me write . You type:\\nDraft an email to senior leadership that summarizes the key findings from our [report]. Include a short \\nintroductory paragraph with bullet points on the most important findings. (Gemini in Docs)\\nGemini in Docs returns a summary with bullet points. You edit it and then use it to email the leadership team. \\nAs a follow-up action, you want to understand how changes made to company policies impact the employee \\nexperience. You open Gemini in Docs to begin drafting a survey. You select Help me write and type:\\nDraft an anonymous employee survey with questions and answer options to monitor company progress  \\non [topics]. (Gemini in Docs) \\n26Marketing\\nAs a marketing professional, you\\u2019re the creative force \\nbehind captivating campaigns, brand experiences, \\nlead generation, and more. You understand the power \\nof data-driven insights, compelling messaging, and \\nconnecting with your audience on a deeper level. \\nThis section provides you with simple ways to integrate \\nprompts in your day-to-day tasks. Learning to write \\neffective prompts will help improve your productivity \\nand streamline your everyday tasks, giving you back \\nthe time you need to focus on your more strategic \\nwork. Discover how to write prompts in a way that will \\nhelp unlock new levels of creativity, automate insights, \\nand craft campaigns that resonate \\u2014 all using Gemini \\nfor Google Workspace. For CMO use cases, visit the \\nExecutives and entrepreneurs section of the guide.\\nGetting started \\nFirst, review the general prompt-writing tips on page 2 and the Prompting 101 section at the beginning of  \\nthis guide.\\nEach prompt below is presented with an accompanying scenario to serve as inspiration for how you can \\ncollaborate with Gemini for Workspace. The prompt iteration example illustrates how you can continue to \\nwrite prompts to build on the initial generated response. We also provide examples of how different marketing \\nroles can use Gemini for Workspace. You can adjust each prompt to accomplish common tasks and refine the \\ngenerated output.\\nPrompt iteration example\\nYou own your own consulting business and are often hired to function as a brand manager for your clients.  \\nYou help businesses in a variety of industries. Your customer is getting ready to launch a coffee shop and video \\ngame cafe, and you need to kick-start the creative process by developing a visual identity. You want to ideate \\nand provide early thoughts to the rest of the team. You decide to chat with Gemini at gemini.google.com.  \\nYou type:\\n Generate ideas for a creative and eye-catching logo  for my new business, a coffee shop combined with  \\n a video game cafe. Generate a logo considering the following: \\n \\n27 Dual Concept: The logo needs to clearly signal both the coffee and gaming aspects of the business  \\n without being too cluttered. \\n Target Audience: Appeal to a wide range of gamers (casual and enthusiast), as well as coffee lovers  \\n seeking a unique hangout spot. \\n Style Options: I\\u2019m open to these approaches \\u2014 let\\u2019s get a few examples in each of these three styles  \\n to compare: Modern and Playful: Bold colors, fun graphics, maybe a pixel art aesthetic. Retro-Cool:  \\n Think classic arcade style \\u2014 chunky lettering, neon color inspiration. Sleek and Minimalist: Clean lines,  \\n geometric shapes, a more subtle nod to both themes.  (gemini.google. com )\\n \\ngemini.google.com\\ngemini.google.com\\nYou like the retro-cool options. You continue your conversation and you type:\\n I like the retro-cool options.  Can you provide three more  in that same style?  (gemini.google.c om)\\u2022  Persona \\u2022  Task \\u2022  Context \\u2022  Format \",\n          \"26Marketing\\nAs a marketing professional, you\\u2019re the creative force \\nbehind captivating campaigns, brand experiences, \\nlead generation, and more. You understand the power \\nof data-driven insights, compelling messaging, and \\nconnecting with your audience on a deeper level. \\nThis section provides you with simple ways to integrate \\nprompts in your day-to-day tasks. Learning to write \\neffective prompts will help improve your productivity \\nand streamline your everyday tasks, giving you back \\nthe time you need to focus on your more strategic \\nwork. Discover how to write prompts in a way that will \\nhelp unlock new levels of creativity, automate insights, \\nand craft campaigns that resonate \\u2014 all using Gemini \\nfor Google Workspace. For CMO use cases, visit the \\nExecutives and entrepreneurs section of the guide.\\nGetting started \\nFirst, review the general prompt-writing tips on page 2 and the Prompting 101 section at the beginning of  \\nthis guide.\\nEach prompt below is presented with an accompanying scenario to serve as inspiration for how you can \\ncollaborate with Gemini for Workspace. The prompt iteration example illustrates how you can continue to \\nwrite prompts to build on the initial generated response. We also provide examples of how different marketing \\nroles can use Gemini for Workspace. You can adjust each prompt to accomplish common tasks and refine the \\ngenerated output.\\nPrompt iteration example\\nYou own your own consulting business and are often hired to function as a brand manager for your clients.  \\nYou help businesses in a variety of industries. Your customer is getting ready to launch a coffee shop and video \\ngame cafe, and you need to kick-start the creative process by developing a visual identity. You want to ideate \\nand provide early thoughts to the rest of the team. You decide to chat with Gemini at gemini.google.com.  \\nYou type:\\n Generate ideas for a creative and eye-catching logo  for my new business, a coffee shop combined with  \\n a video game cafe. Generate a logo considering the following: \\n \\n27 Dual Concept: The logo needs to clearly signal both the coffee and gaming aspects of the business  \\n without being too cluttered. \\n Target Audience: Appeal to a wide range of gamers (casual and enthusiast), as well as coffee lovers  \\n seeking a unique hangout spot. \\n Style Options: I\\u2019m open to these approaches \\u2014 let\\u2019s get a few examples in each of these three styles  \\n to compare: Modern and Playful: Bold colors, fun graphics, maybe a pixel art aesthetic. Retro-Cool:  \\n Think classic arcade style \\u2014 chunky lettering, neon color inspiration. Sleek and Minimalist: Clean lines,  \\n geometric shapes, a more subtle nod to both themes.  (gemini.google. com )\\n \\ngemini.google.com\\ngemini.google.com\\nYou like the retro-cool options. You continue your conversation and you type:\\n I like the retro-cool options.  Can you provide three more  in that same style?  (gemini.google.c om)\\u2022  Persona \\u2022  Task \\u2022  Context \\u2022  Format  \\n28Now that you have a sense of what the logo could look like, you want to brainstorm names. You type:\\n Write a tagline and 10 potential names  for the business to go with these logos.  (gemini. google.com )\\nPrompt guide\\nBrand Manager\\nUse case: Conduct market research and identify trends\\nThe landscape in your industry is rapidly changing and you need to conduct market research to better identify \\nand understand emerging trends. You go to gemini.google.com, and you type:\\nI need to do market research on [industry] industry to identify new trends. Use [URLs] to uncover emerging \\ntrends and shifting consumer preferences. (gemini.google. com )\\nAfter completing your research, you and the team have updated your brand campaign to include new messaging \\nthat you want to A/B test. You decide to generate multiple variations of ad copy. You go to gemini.google.com \\nand type:\\nI need to A/B test new messaging. Here is our messaging: [messaging]. Generate three different variations \\nof ad copy. (gemini.google .com )\\ngemini.google.com\"\n        ],\n        \"semantic_type\": \"\",\n        \"description\": \"\"\n      }\n    },\n    {\n      \"column\": \"embeddings\",\n      \"properties\": {\n        \"dtype\": \"object\",\n        \"semantic_type\": \"\",\n        \"description\": \"\"\n      }\n    }\n  ]\n}"
            }
          },
          "metadata": {},
          "execution_count": 127
        }
      ]
    },
    {
      "cell_type": "markdown",
      "source": [
        "## Gerando e buscando a consulta"
      ],
      "metadata": {
        "id": "8gdjNqJunKbv"
      }
    },
    {
      "cell_type": "code",
      "source": [
        "consulta = \"Como escrever prompts efetivos?\"\n",
        "\n",
        "resposta_consulta = gerar_e_buscar_consulta(consulta, df_pdf,model_embedding)"
      ],
      "metadata": {
        "id": "jSyffIOYXo31"
      },
      "execution_count": 128,
      "outputs": []
    },
    {
      "cell_type": "markdown",
      "source": [
        "## Utilizando o modelo generativo para uma resposta mais legível em cima da consulta"
      ],
      "metadata": {
        "id": "yzhNzmflnax6"
      }
    },
    {
      "cell_type": "code",
      "source": [
        "response = model_generative.generate_content(\n",
        "    f\"SEARCH_RESPONSE: {resposta_consulta} \\n Com base no SEARCH_RESPONSE responda: {consulta}\")\n",
        "\n",
        "print(response.text)"
      ],
      "metadata": {
        "colab": {
          "base_uri": "https://localhost:8080/",
          "height": 321
        },
        "id": "hYYuHSFjSHHB",
        "outputId": "161a6415-4337-44dd-883c-fb5c23758981"
      },
      "execution_count": 131,
      "outputs": [
        {
          "output_type": "stream",
          "name": "stdout",
          "text": [
            "**Como escrever prompts efetivos**\n",
            "\n",
            "Ao escrever um prompt efetivo, considere as seguintes áreas:\n",
            "\n",
            "* **Persona:** Para quem você está escrevendo?\n",
            "* **Tarefa:** O que você quer que o AI faça?\n",
            "* **Contexto:** Forneça informações relevantes para a tarefa.\n",
            "* **Formato:** Use linguagem natural, seja específico e conciso.\n",
            "\n",
            "**Dicas:**\n",
            "\n",
            "* Use linguagem natural e frases completas.\n",
            "* Seja específico e forneça contexto.\n",
            "* Seja conciso e evite complexidade.\n",
            "* Faça uma conversa e refine seus prompts.\n",
            "* Os prompts ideais têm cerca de 21 palavras.\n",
            "* Revise as saídas do AI para garantir clareza e precisão.\n"
          ]
        }
      ]
    }
  ]
}